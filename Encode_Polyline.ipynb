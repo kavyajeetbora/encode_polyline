{
  "cells": [
    {
      "cell_type": "markdown",
      "metadata": {
        "id": "view-in-github",
        "colab_type": "text"
      },
      "source": [
        "<a href=\"https://colab.research.google.com/github/kavyajeetbora/encode_polyline/blob/master/Encode_Polyline.ipynb\" target=\"_parent\"><img src=\"https://colab.research.google.com/assets/colab-badge.svg\" alt=\"Open In Colab\"/></a>"
      ]
    },
    {
      "cell_type": "code",
      "execution_count": 2,
      "metadata": {
        "colab": {
          "base_uri": "https://localhost:8080/",
          "height": 84,
          "referenced_widgets": [
            "8262f9da46ab4806abcc8872e31112ed",
            "91037d3e71b04e998a319f6600a5f18f",
            "295e286624c94caabf3f10615c3a1af0"
          ]
        },
        "id": "pw9Dt6B_JbXR",
        "outputId": "446bc477-ba54-4212-aef8-f79425a62449"
      },
      "outputs": [
        {
          "output_type": "stream",
          "name": "stdout",
          "text": [
            "\u001b[2K     \u001b[90m━━━━━━━━━━━━━━━━━━━━━━━━━━━━━━━━━━━━━━━━\u001b[0m \u001b[32m56.6/56.6 kB\u001b[0m \u001b[31m3.3 MB/s\u001b[0m eta \u001b[36m0:00:00\u001b[0m\n",
            "\u001b[2K   \u001b[90m━━━━━━━━━━━━━━━━━━━━━━━━━━━━━━━━━━━━━━━━\u001b[0m \u001b[32m17.3/17.3 MB\u001b[0m \u001b[31m78.5 MB/s\u001b[0m eta \u001b[36m0:00:00\u001b[0m\n",
            "\u001b[?25h"
          ]
        },
        {
          "output_type": "display_data",
          "data": {
            "text/plain": [
              "FileUpload(value={}, accept='.gpkg', description='Upload')"
            ],
            "application/vnd.jupyter.widget-view+json": {
              "version_major": 2,
              "version_minor": 0,
              "model_id": "8262f9da46ab4806abcc8872e31112ed"
            }
          },
          "metadata": {}
        }
      ],
      "source": [
        "# @title Encode GIS geometry to Encoded Polyline Algorithm Format\n",
        "!pip install -q polyline\n",
        "!pip install -q fiona\n",
        "\n",
        "import polyline\n",
        "import geopandas as gpd\n",
        "import fiona\n",
        "from ipywidgets import FileUpload\n",
        "from IPython.display import display\n",
        "from pathlib import Path\n",
        "from tqdm.notebook import tqdm\n",
        "\n",
        "## Functions for processing\n",
        "\n",
        "def get_coords_from_linestring(linestring):\n",
        "    y,x = linestring.xy\n",
        "    x = list(x)\n",
        "    y=list(y)\n",
        "    coords = list(zip(x,y))\n",
        "    return coords\n",
        "\n",
        "def encode_geometry(gpkg_file):\n",
        "\n",
        "    layers = fiona.listlayers(gpkg_file)\n",
        "    for layer in tqdm(layers, unit=' layers'):\n",
        "        gdf = gpd.read_file(gpkg_file, layer=layer)\n",
        "        gdf = gdf.to_crs(\"EPSG:4326\") ## Reproject to WGS84\n",
        "\n",
        "        ## make sure all the linestrings are in type: shapely.geometry.LineString\n",
        "        ## Explode the multipart geeomtry to single goemetry\n",
        "        gdf = gdf.explode(index_parts=False).reset_index()\n",
        "\n",
        "        ## Now get the list of coordinates from each LineString object\n",
        "        coords = gdf['geometry'].apply(get_coords_from_linestring)\n",
        "\n",
        "        ## Now encode all the coords to Encoded Polyline Algorithm Format\n",
        "        gdf['encoded_polyline'] = coords.apply(lambda x: polyline.encode(x,precision=5))\n",
        "        gdf = gdf.drop('geometry',axis=1)\n",
        "\n",
        "        return gdf\n",
        "\n",
        "# Create a file uploader widget\n",
        "uploader = FileUpload(accept='.gpkg')\n",
        "\n",
        "# Define a function to handle the uploaded file\n",
        "def on_upload(change):\n",
        "\n",
        "    ## get the filename\n",
        "    uploaded_filename = next(iter(uploader.value))\n",
        "\n",
        "    ## get the content of the file in binary\n",
        "    content = uploader.value[uploaded_filename]['content']\n",
        "\n",
        "    ## write the file to current directory\n",
        "    with open(uploaded_filename, 'wb') as f:\n",
        "        f.write(content)\n",
        "    print(f\"{uploaded_filename} has been uploaded successfully!\")\n",
        "\n",
        "    print(\"Encoding the geometry to Encoded Polyline Algorithm Format\")\n",
        "    ## Now encode the geometry\n",
        "    gdf = encode_geometry(uploaded_filename)\n",
        "    print(\"Successfully encoded the polyline geometries\")\n",
        "\n",
        "    ## Export it as csv\n",
        "    filename = Path(uploaded_filename).stem\n",
        "    gdf.to_csv(filename+\".csv\")\n",
        "    print(f\"Exported the data to {filename}.csv\")\n",
        "\n",
        "# Attach the function to the widget's observe method\n",
        "uploader.observe(on_upload, names='_counter')\n",
        "\n",
        "# Display the widget\n",
        "display(uploader)"
      ]
    }
  ],
  "metadata": {
    "colab": {
      "provenance": [],
      "include_colab_link": true
    },
    "kernelspec": {
      "display_name": "Python 3",
      "name": "python3"
    },
    "language_info": {
      "name": "python"
    },
    "widgets": {
      "application/vnd.jupyter.widget-state+json": {
        "8262f9da46ab4806abcc8872e31112ed": {
          "model_module": "@jupyter-widgets/controls",
          "model_name": "FileUploadModel",
          "model_module_version": "1.5.0",
          "state": {
            "_counter": 0,
            "_dom_classes": [],
            "_model_module": "@jupyter-widgets/controls",
            "_model_module_version": "1.5.0",
            "_model_name": "FileUploadModel",
            "_view_count": null,
            "_view_module": "@jupyter-widgets/controls",
            "_view_module_version": "1.5.0",
            "_view_name": "FileUploadView",
            "accept": ".gpkg",
            "button_style": "",
            "data": [],
            "description": "Upload",
            "description_tooltip": null,
            "disabled": false,
            "error": "",
            "icon": "upload",
            "layout": "IPY_MODEL_91037d3e71b04e998a319f6600a5f18f",
            "metadata": [],
            "multiple": false,
            "style": "IPY_MODEL_295e286624c94caabf3f10615c3a1af0"
          }
        },
        "91037d3e71b04e998a319f6600a5f18f": {
          "model_module": "@jupyter-widgets/base",
          "model_name": "LayoutModel",
          "model_module_version": "1.2.0",
          "state": {
            "_model_module": "@jupyter-widgets/base",
            "_model_module_version": "1.2.0",
            "_model_name": "LayoutModel",
            "_view_count": null,
            "_view_module": "@jupyter-widgets/base",
            "_view_module_version": "1.2.0",
            "_view_name": "LayoutView",
            "align_content": null,
            "align_items": null,
            "align_self": null,
            "border": null,
            "bottom": null,
            "display": null,
            "flex": null,
            "flex_flow": null,
            "grid_area": null,
            "grid_auto_columns": null,
            "grid_auto_flow": null,
            "grid_auto_rows": null,
            "grid_column": null,
            "grid_gap": null,
            "grid_row": null,
            "grid_template_areas": null,
            "grid_template_columns": null,
            "grid_template_rows": null,
            "height": null,
            "justify_content": null,
            "justify_items": null,
            "left": null,
            "margin": null,
            "max_height": null,
            "max_width": null,
            "min_height": null,
            "min_width": null,
            "object_fit": null,
            "object_position": null,
            "order": null,
            "overflow": null,
            "overflow_x": null,
            "overflow_y": null,
            "padding": null,
            "right": null,
            "top": null,
            "visibility": null,
            "width": null
          }
        },
        "295e286624c94caabf3f10615c3a1af0": {
          "model_module": "@jupyter-widgets/controls",
          "model_name": "ButtonStyleModel",
          "model_module_version": "1.5.0",
          "state": {
            "_model_module": "@jupyter-widgets/controls",
            "_model_module_version": "1.5.0",
            "_model_name": "ButtonStyleModel",
            "_view_count": null,
            "_view_module": "@jupyter-widgets/base",
            "_view_module_version": "1.2.0",
            "_view_name": "StyleView",
            "button_color": null,
            "font_weight": ""
          }
        }
      }
    }
  },
  "nbformat": 4,
  "nbformat_minor": 0
}